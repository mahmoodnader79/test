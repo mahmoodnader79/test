{
 "cells": [
  {
   "cell_type": "code",
   "execution_count": 1,
   "metadata": {},
   "outputs": [],
   "source": [
    "from sklearn.feature_extraction.text import TfidfVectorizer\n",
    "import tensorflow as tf\n",
    "import pandas as pd\n",
    "import numpy as np\n",
    "from sklearn.feature_extraction.text import TfidfVectorizer\n",
    "from sklearn.tree import DecisionTreeClassifier\n",
    "from sklearn.ensemble import RandomForestClassifier\n",
    "from sklearn.metrics import accuracy_score,precision_score,recall_score,f1_score,confusion_matrix\n",
    "import numpy as np\n",
    "import warnings\n",
    "warnings.filterwarnings('ignore')"
   ]
  },
  {
   "cell_type": "code",
   "execution_count": 2,
   "metadata": {},
   "outputs": [],
   "source": [
    "text = open(\"train.txt\", \"r\", encoding=\"utf8\").read()"
   ]
  },
  {
   "cell_type": "code",
   "execution_count": 3,
   "metadata": {},
   "outputs": [],
   "source": [
    "def process_text(text):\n",
    "    data = []\n",
    "    items = text.split('\\n')\n",
    "    for item in items:\n",
    "        d = item.split()\n",
    "        try:\n",
    "            if d[0]!= None:\n",
    "                data.append(d)\n",
    "        except:\n",
    "            pass\n",
    "    return data"
   ]
  },
  {
   "cell_type": "code",
   "execution_count": 4,
   "metadata": {},
   "outputs": [],
   "source": [
    "data = process_text(text)"
   ]
  },
  {
   "cell_type": "code",
   "execution_count": 5,
   "metadata": {},
   "outputs": [],
   "source": [
    "df = pd.DataFrame(data)"
   ]
  },
  {
   "cell_type": "code",
   "execution_count": 6,
   "metadata": {},
   "outputs": [
    {
     "data": {
      "text/html": [
       "<div>\n",
       "<style scoped>\n",
       "    .dataframe tbody tr th:only-of-type {\n",
       "        vertical-align: middle;\n",
       "    }\n",
       "\n",
       "    .dataframe tbody tr th {\n",
       "        vertical-align: top;\n",
       "    }\n",
       "\n",
       "    .dataframe thead th {\n",
       "        text-align: right;\n",
       "    }\n",
       "</style>\n",
       "<table border=\"1\" class=\"dataframe\">\n",
       "  <thead>\n",
       "    <tr style=\"text-align: right;\">\n",
       "      <th></th>\n",
       "      <th>0</th>\n",
       "      <th>1</th>\n",
       "    </tr>\n",
       "  </thead>\n",
       "  <tbody>\n",
       "    <tr>\n",
       "      <th>0</th>\n",
       "      <td>Virulent</td>\n",
       "      <td>B-Malware</td>\n",
       "    </tr>\n",
       "    <tr>\n",
       "      <th>1</th>\n",
       "      <td>Android</td>\n",
       "      <td>B-OS</td>\n",
       "    </tr>\n",
       "    <tr>\n",
       "      <th>2</th>\n",
       "      <td>malware</td>\n",
       "      <td>O</td>\n",
       "    </tr>\n",
       "    <tr>\n",
       "      <th>3</th>\n",
       "      <td>returns</td>\n",
       "      <td>O</td>\n",
       "    </tr>\n",
       "    <tr>\n",
       "      <th>4</th>\n",
       "      <td>,</td>\n",
       "      <td>O</td>\n",
       "    </tr>\n",
       "    <tr>\n",
       "      <th>...</th>\n",
       "      <td>...</td>\n",
       "      <td>...</td>\n",
       "    </tr>\n",
       "    <tr>\n",
       "      <th>99901</th>\n",
       "      <td>to</td>\n",
       "      <td>O</td>\n",
       "    </tr>\n",
       "    <tr>\n",
       "      <th>99902</th>\n",
       "      <td>execute</td>\n",
       "      <td>O</td>\n",
       "    </tr>\n",
       "    <tr>\n",
       "      <th>99903</th>\n",
       "      <td>malicious</td>\n",
       "      <td>O</td>\n",
       "    </tr>\n",
       "    <tr>\n",
       "      <th>99904</th>\n",
       "      <td>macros</td>\n",
       "      <td>O</td>\n",
       "    </tr>\n",
       "    <tr>\n",
       "      <th>99905</th>\n",
       "      <td>.</td>\n",
       "      <td>O</td>\n",
       "    </tr>\n",
       "  </tbody>\n",
       "</table>\n",
       "<p>99906 rows × 2 columns</p>\n",
       "</div>"
      ],
      "text/plain": [
       "               0          1\n",
       "0       Virulent  B-Malware\n",
       "1        Android       B-OS\n",
       "2        malware          O\n",
       "3        returns          O\n",
       "4              ,          O\n",
       "...          ...        ...\n",
       "99901         to          O\n",
       "99902    execute          O\n",
       "99903  malicious          O\n",
       "99904     macros          O\n",
       "99905          .          O\n",
       "\n",
       "[99906 rows x 2 columns]"
      ]
     },
     "execution_count": 6,
     "metadata": {},
     "output_type": "execute_result"
    }
   ],
   "source": [
    "df"
   ]
  },
  {
   "cell_type": "code",
   "execution_count": 7,
   "metadata": {},
   "outputs": [],
   "source": [
    "from ydata_profiling import ProfileReport"
   ]
  },
  {
   "cell_type": "code",
   "execution_count": 8,
   "metadata": {},
   "outputs": [],
   "source": [
    "profile = ProfileReport(df)"
   ]
  },
  {
   "cell_type": "code",
   "execution_count": 9,
   "metadata": {},
   "outputs": [
    {
     "name": "stderr",
     "output_type": "stream",
     "text": [
      "Summarize dataset: 100%|██████████| 11/11 [00:00<00:00, 16.59it/s, Completed]               \n",
      "Generate report structure: 100%|██████████| 1/1 [00:00<00:00,  1.97it/s]\n",
      "Render HTML: 100%|██████████| 1/1 [00:00<00:00,  6.32it/s]\n",
      "Export report to file: 100%|██████████| 1/1 [00:00<00:00, 375.40it/s]\n"
     ]
    }
   ],
   "source": [
    "profile.to_file(\"output.html\")"
   ]
  },
  {
   "cell_type": "code",
   "execution_count": 10,
   "metadata": {},
   "outputs": [
    {
     "data": {
      "text/html": [
       "<div>\n",
       "<style scoped>\n",
       "    .dataframe tbody tr th:only-of-type {\n",
       "        vertical-align: middle;\n",
       "    }\n",
       "\n",
       "    .dataframe tbody tr th {\n",
       "        vertical-align: top;\n",
       "    }\n",
       "\n",
       "    .dataframe thead th {\n",
       "        text-align: right;\n",
       "    }\n",
       "</style>\n",
       "<table border=\"1\" class=\"dataframe\">\n",
       "  <thead>\n",
       "    <tr style=\"text-align: right;\">\n",
       "      <th></th>\n",
       "      <th>0</th>\n",
       "      <th>1</th>\n",
       "    </tr>\n",
       "  </thead>\n",
       "  <tbody>\n",
       "    <tr>\n",
       "      <th>0</th>\n",
       "      <td>Virulent</td>\n",
       "      <td>B-Malware</td>\n",
       "    </tr>\n",
       "    <tr>\n",
       "      <th>1</th>\n",
       "      <td>Android</td>\n",
       "      <td>B-OS</td>\n",
       "    </tr>\n",
       "    <tr>\n",
       "      <th>2</th>\n",
       "      <td>malware</td>\n",
       "      <td>O</td>\n",
       "    </tr>\n",
       "    <tr>\n",
       "      <th>3</th>\n",
       "      <td>returns</td>\n",
       "      <td>O</td>\n",
       "    </tr>\n",
       "    <tr>\n",
       "      <th>5</th>\n",
       "      <td>gets</td>\n",
       "      <td>O</td>\n",
       "    </tr>\n",
       "    <tr>\n",
       "      <th>...</th>\n",
       "      <td>...</td>\n",
       "      <td>...</td>\n",
       "    </tr>\n",
       "    <tr>\n",
       "      <th>99899</th>\n",
       "      <td>ActiveX</td>\n",
       "      <td>O</td>\n",
       "    </tr>\n",
       "    <tr>\n",
       "      <th>99900</th>\n",
       "      <td>control</td>\n",
       "      <td>O</td>\n",
       "    </tr>\n",
       "    <tr>\n",
       "      <th>99902</th>\n",
       "      <td>execute</td>\n",
       "      <td>O</td>\n",
       "    </tr>\n",
       "    <tr>\n",
       "      <th>99903</th>\n",
       "      <td>malicious</td>\n",
       "      <td>O</td>\n",
       "    </tr>\n",
       "    <tr>\n",
       "      <th>99904</th>\n",
       "      <td>macros</td>\n",
       "      <td>O</td>\n",
       "    </tr>\n",
       "  </tbody>\n",
       "</table>\n",
       "<p>75022 rows × 2 columns</p>\n",
       "</div>"
      ],
      "text/plain": [
       "               0          1\n",
       "0       Virulent  B-Malware\n",
       "1        Android       B-OS\n",
       "2        malware          O\n",
       "3        returns          O\n",
       "5           gets          O\n",
       "...          ...        ...\n",
       "99899    ActiveX          O\n",
       "99900    control          O\n",
       "99902    execute          O\n",
       "99903  malicious          O\n",
       "99904     macros          O\n",
       "\n",
       "[75022 rows x 2 columns]"
      ]
     },
     "execution_count": 10,
     "metadata": {},
     "output_type": "execute_result"
    }
   ],
   "source": [
    "df = df.loc[df['0']!='the']\n",
    "df = df.loc[df['0']!=',']\n",
    "df = df.loc[df['0']!='.']\n",
    "df = df.loc[df['0']!='to']\n",
    "df = df.loc[df['0']!='and']\n",
    "df = df.loc[df['0']!='of']\n",
    "df = df.loc[df['0']!='a']\n",
    "df = df.loc[df['0']!='in']\n",
    "df = df.loc[df['0']!='that']\n",
    "df = df.loc[df['0']!='is']\n",
    "df = df.loc[df['0']!='<']\n",
    "df = df.loc[df['0']!='>']\n",
    "df = df.loc[df['0']!='=']\n",
    "\n",
    "df\n"
   ]
  },
  {
   "cell_type": "code",
   "execution_count": 11,
   "metadata": {},
   "outputs": [
    {
     "name": "stderr",
     "output_type": "stream",
     "text": [
      "Summarize dataset: 100%|██████████| 11/11 [00:00<00:00, 17.04it/s, Completed]               \n",
      "Generate report structure: 100%|██████████| 1/1 [00:00<00:00,  1.79it/s]\n",
      "Render HTML: 100%|██████████| 1/1 [00:00<00:00, 12.02it/s]\n",
      "Export report to file: 100%|██████████| 1/1 [00:00<00:00, 322.84it/s]\n"
     ]
    }
   ],
   "source": [
    "profile = ProfileReport(df)\n",
    "profile.to_file(\"output2.html\")"
   ]
  },
  {
   "cell_type": "code",
   "execution_count": 12,
   "metadata": {},
   "outputs": [],
   "source": [
    "def tokenize_letters(word):\n",
    "    codes = []\n",
    "    for char in word:\n",
    "        codes.append(ord(char))\n",
    "    return codes"
   ]
  },
  {
   "cell_type": "code",
   "execution_count": 13,
   "metadata": {},
   "outputs": [],
   "source": [
    "max_len = 20\n",
    "def pad_tokens(tokens):\n",
    "    if len(tokens) < max_len:\n",
    "        return tokens + [0] * (max_len - len(tokens))\n",
    "    elif len(tokens) > max_len:\n",
    "        return tokens[:max_len]\n",
    "    else:\n",
    "        return tokens"
   ]
  },
  {
   "cell_type": "code",
   "execution_count": 14,
   "metadata": {},
   "outputs": [],
   "source": [
    "# df['tokens'] = df['0'].apply(tokenize_letters)\n",
    "# max_len = 50\n",
    "# for i in range(max_len): \n",
    "#     if len(df.loc[i,'0'])<max_len:\n",
    "#         df.loc[i,'tokens'] = df.loc[i,'tokens']+[0]*(max_len-len(df.loc[i,'tokens']))\n",
    "    \n",
    "df['tokens'] = df['0'].apply(tokenize_letters)\n",
    "\n",
    "\n",
    "df['tokens'] = df['tokens'].apply(pad_tokens)"
   ]
  },
  {
   "cell_type": "code",
   "execution_count": 15,
   "metadata": {},
   "outputs": [
    {
     "data": {
      "text/html": [
       "<div>\n",
       "<style scoped>\n",
       "    .dataframe tbody tr th:only-of-type {\n",
       "        vertical-align: middle;\n",
       "    }\n",
       "\n",
       "    .dataframe tbody tr th {\n",
       "        vertical-align: top;\n",
       "    }\n",
       "\n",
       "    .dataframe thead th {\n",
       "        text-align: right;\n",
       "    }\n",
       "</style>\n",
       "<table border=\"1\" class=\"dataframe\">\n",
       "  <thead>\n",
       "    <tr style=\"text-align: right;\">\n",
       "      <th></th>\n",
       "      <th>0</th>\n",
       "      <th>1</th>\n",
       "      <th>tokens</th>\n",
       "    </tr>\n",
       "  </thead>\n",
       "  <tbody>\n",
       "    <tr>\n",
       "      <th>0</th>\n",
       "      <td>Virulent</td>\n",
       "      <td>B-Malware</td>\n",
       "      <td>[86, 105, 114, 117, 108, 101, 110, 116, 0, 0, ...</td>\n",
       "    </tr>\n",
       "    <tr>\n",
       "      <th>1</th>\n",
       "      <td>Android</td>\n",
       "      <td>B-OS</td>\n",
       "      <td>[65, 110, 100, 114, 111, 105, 100, 0, 0, 0, 0,...</td>\n",
       "    </tr>\n",
       "    <tr>\n",
       "      <th>2</th>\n",
       "      <td>malware</td>\n",
       "      <td>O</td>\n",
       "      <td>[109, 97, 108, 119, 97, 114, 101, 0, 0, 0, 0, ...</td>\n",
       "    </tr>\n",
       "    <tr>\n",
       "      <th>3</th>\n",
       "      <td>returns</td>\n",
       "      <td>O</td>\n",
       "      <td>[114, 101, 116, 117, 114, 110, 115, 0, 0, 0, 0...</td>\n",
       "    </tr>\n",
       "    <tr>\n",
       "      <th>5</th>\n",
       "      <td>gets</td>\n",
       "      <td>O</td>\n",
       "      <td>[103, 101, 116, 115, 0, 0, 0, 0, 0, 0, 0, 0, 0...</td>\n",
       "    </tr>\n",
       "    <tr>\n",
       "      <th>...</th>\n",
       "      <td>...</td>\n",
       "      <td>...</td>\n",
       "      <td>...</td>\n",
       "    </tr>\n",
       "    <tr>\n",
       "      <th>99899</th>\n",
       "      <td>ActiveX</td>\n",
       "      <td>O</td>\n",
       "      <td>[65, 99, 116, 105, 118, 101, 88, 0, 0, 0, 0, 0...</td>\n",
       "    </tr>\n",
       "    <tr>\n",
       "      <th>99900</th>\n",
       "      <td>control</td>\n",
       "      <td>O</td>\n",
       "      <td>[99, 111, 110, 116, 114, 111, 108, 0, 0, 0, 0,...</td>\n",
       "    </tr>\n",
       "    <tr>\n",
       "      <th>99902</th>\n",
       "      <td>execute</td>\n",
       "      <td>O</td>\n",
       "      <td>[101, 120, 101, 99, 117, 116, 101, 0, 0, 0, 0,...</td>\n",
       "    </tr>\n",
       "    <tr>\n",
       "      <th>99903</th>\n",
       "      <td>malicious</td>\n",
       "      <td>O</td>\n",
       "      <td>[109, 97, 108, 105, 99, 105, 111, 117, 115, 0,...</td>\n",
       "    </tr>\n",
       "    <tr>\n",
       "      <th>99904</th>\n",
       "      <td>macros</td>\n",
       "      <td>O</td>\n",
       "      <td>[109, 97, 99, 114, 111, 115, 0, 0, 0, 0, 0, 0,...</td>\n",
       "    </tr>\n",
       "  </tbody>\n",
       "</table>\n",
       "<p>75022 rows × 3 columns</p>\n",
       "</div>"
      ],
      "text/plain": [
       "               0          1                                             tokens\n",
       "0       Virulent  B-Malware  [86, 105, 114, 117, 108, 101, 110, 116, 0, 0, ...\n",
       "1        Android       B-OS  [65, 110, 100, 114, 111, 105, 100, 0, 0, 0, 0,...\n",
       "2        malware          O  [109, 97, 108, 119, 97, 114, 101, 0, 0, 0, 0, ...\n",
       "3        returns          O  [114, 101, 116, 117, 114, 110, 115, 0, 0, 0, 0...\n",
       "5           gets          O  [103, 101, 116, 115, 0, 0, 0, 0, 0, 0, 0, 0, 0...\n",
       "...          ...        ...                                                ...\n",
       "99899    ActiveX          O  [65, 99, 116, 105, 118, 101, 88, 0, 0, 0, 0, 0...\n",
       "99900    control          O  [99, 111, 110, 116, 114, 111, 108, 0, 0, 0, 0,...\n",
       "99902    execute          O  [101, 120, 101, 99, 117, 116, 101, 0, 0, 0, 0,...\n",
       "99903  malicious          O  [109, 97, 108, 105, 99, 105, 111, 117, 115, 0,...\n",
       "99904     macros          O  [109, 97, 99, 114, 111, 115, 0, 0, 0, 0, 0, 0,...\n",
       "\n",
       "[75022 rows x 3 columns]"
      ]
     },
     "execution_count": 15,
     "metadata": {},
     "output_type": "execute_result"
    }
   ],
   "source": [
    "df"
   ]
  },
  {
   "cell_type": "code",
   "execution_count": 16,
   "metadata": {},
   "outputs": [],
   "source": [
    "def tokenize(lang):\n",
    "    lang_tokenizer = tf.keras.preprocessing.text.Tokenizer(\n",
    "      filters='')\n",
    "    lang_tokenizer.fit_on_texts(lang)\n",
    "\n",
    "    tensor = lang_tokenizer.texts_to_sequences(lang)\n",
    "\n",
    "    tensor = tf.keras.preprocessing.sequence.pad_sequences(tensor,\n",
    "                                                         padding='post')\n",
    "    word_index = lang_tokenizer.word_index\n",
    "    return tensor, word_index"
   ]
  },
  {
   "cell_type": "code",
   "execution_count": 17,
   "metadata": {},
   "outputs": [],
   "source": [
    "df['1'] = df['1'].str.replace('B-','')\n",
    "df['1'] = df['1'].str.replace('I-','')\n"
   ]
  },
  {
   "cell_type": "code",
   "execution_count": 18,
   "metadata": {},
   "outputs": [
    {
     "data": {
      "text/html": [
       "<div>\n",
       "<style scoped>\n",
       "    .dataframe tbody tr th:only-of-type {\n",
       "        vertical-align: middle;\n",
       "    }\n",
       "\n",
       "    .dataframe tbody tr th {\n",
       "        vertical-align: top;\n",
       "    }\n",
       "\n",
       "    .dataframe thead th {\n",
       "        text-align: right;\n",
       "    }\n",
       "</style>\n",
       "<table border=\"1\" class=\"dataframe\">\n",
       "  <thead>\n",
       "    <tr style=\"text-align: right;\">\n",
       "      <th></th>\n",
       "      <th>0</th>\n",
       "      <th>1</th>\n",
       "      <th>tokens</th>\n",
       "    </tr>\n",
       "  </thead>\n",
       "  <tbody>\n",
       "    <tr>\n",
       "      <th>0</th>\n",
       "      <td>Virulent</td>\n",
       "      <td>Malware</td>\n",
       "      <td>[86, 105, 114, 117, 108, 101, 110, 116, 0, 0, ...</td>\n",
       "    </tr>\n",
       "    <tr>\n",
       "      <th>1</th>\n",
       "      <td>Android</td>\n",
       "      <td>OS</td>\n",
       "      <td>[65, 110, 100, 114, 111, 105, 100, 0, 0, 0, 0,...</td>\n",
       "    </tr>\n",
       "    <tr>\n",
       "      <th>2</th>\n",
       "      <td>malware</td>\n",
       "      <td>O</td>\n",
       "      <td>[109, 97, 108, 119, 97, 114, 101, 0, 0, 0, 0, ...</td>\n",
       "    </tr>\n",
       "    <tr>\n",
       "      <th>3</th>\n",
       "      <td>returns</td>\n",
       "      <td>O</td>\n",
       "      <td>[114, 101, 116, 117, 114, 110, 115, 0, 0, 0, 0...</td>\n",
       "    </tr>\n",
       "    <tr>\n",
       "      <th>5</th>\n",
       "      <td>gets</td>\n",
       "      <td>O</td>\n",
       "      <td>[103, 101, 116, 115, 0, 0, 0, 0, 0, 0, 0, 0, 0...</td>\n",
       "    </tr>\n",
       "    <tr>\n",
       "      <th>...</th>\n",
       "      <td>...</td>\n",
       "      <td>...</td>\n",
       "      <td>...</td>\n",
       "    </tr>\n",
       "    <tr>\n",
       "      <th>99899</th>\n",
       "      <td>ActiveX</td>\n",
       "      <td>O</td>\n",
       "      <td>[65, 99, 116, 105, 118, 101, 88, 0, 0, 0, 0, 0...</td>\n",
       "    </tr>\n",
       "    <tr>\n",
       "      <th>99900</th>\n",
       "      <td>control</td>\n",
       "      <td>O</td>\n",
       "      <td>[99, 111, 110, 116, 114, 111, 108, 0, 0, 0, 0,...</td>\n",
       "    </tr>\n",
       "    <tr>\n",
       "      <th>99902</th>\n",
       "      <td>execute</td>\n",
       "      <td>O</td>\n",
       "      <td>[101, 120, 101, 99, 117, 116, 101, 0, 0, 0, 0,...</td>\n",
       "    </tr>\n",
       "    <tr>\n",
       "      <th>99903</th>\n",
       "      <td>malicious</td>\n",
       "      <td>O</td>\n",
       "      <td>[109, 97, 108, 105, 99, 105, 111, 117, 115, 0,...</td>\n",
       "    </tr>\n",
       "    <tr>\n",
       "      <th>99904</th>\n",
       "      <td>macros</td>\n",
       "      <td>O</td>\n",
       "      <td>[109, 97, 99, 114, 111, 115, 0, 0, 0, 0, 0, 0,...</td>\n",
       "    </tr>\n",
       "  </tbody>\n",
       "</table>\n",
       "<p>75022 rows × 3 columns</p>\n",
       "</div>"
      ],
      "text/plain": [
       "               0        1                                             tokens\n",
       "0       Virulent  Malware  [86, 105, 114, 117, 108, 101, 110, 116, 0, 0, ...\n",
       "1        Android       OS  [65, 110, 100, 114, 111, 105, 100, 0, 0, 0, 0,...\n",
       "2        malware        O  [109, 97, 108, 119, 97, 114, 101, 0, 0, 0, 0, ...\n",
       "3        returns        O  [114, 101, 116, 117, 114, 110, 115, 0, 0, 0, 0...\n",
       "5           gets        O  [103, 101, 116, 115, 0, 0, 0, 0, 0, 0, 0, 0, 0...\n",
       "...          ...      ...                                                ...\n",
       "99899    ActiveX        O  [65, 99, 116, 105, 118, 101, 88, 0, 0, 0, 0, 0...\n",
       "99900    control        O  [99, 111, 110, 116, 114, 111, 108, 0, 0, 0, 0,...\n",
       "99902    execute        O  [101, 120, 101, 99, 117, 116, 101, 0, 0, 0, 0,...\n",
       "99903  malicious        O  [109, 97, 108, 105, 99, 105, 111, 117, 115, 0,...\n",
       "99904     macros        O  [109, 97, 99, 114, 111, 115, 0, 0, 0, 0, 0, 0,...\n",
       "\n",
       "[75022 rows x 3 columns]"
      ]
     },
     "execution_count": 18,
     "metadata": {},
     "output_type": "execute_result"
    }
   ],
   "source": [
    "df"
   ]
  },
  {
   "cell_type": "code",
   "execution_count": 19,
   "metadata": {},
   "outputs": [],
   "source": [
    "y , y_index = tokenize(df['1'])"
   ]
  },
  {
   "cell_type": "code",
   "execution_count": 20,
   "metadata": {},
   "outputs": [
    {
     "data": {
      "text/plain": [
       "array([[3],\n",
       "       [6],\n",
       "       [1],\n",
       "       ...,\n",
       "       [1],\n",
       "       [1],\n",
       "       [1]])"
      ]
     },
     "execution_count": 20,
     "metadata": {},
     "output_type": "execute_result"
    }
   ],
   "source": [
    "y"
   ]
  },
  {
   "cell_type": "code",
   "execution_count": 21,
   "metadata": {},
   "outputs": [],
   "source": [
    "y = y[:, 0]\n",
    "Y = pd.DataFrame(y)"
   ]
  },
  {
   "cell_type": "code",
   "execution_count": 22,
   "metadata": {},
   "outputs": [
    {
     "data": {
      "text/plain": [
       "{'o': 1,\n",
       " 'application': 2,\n",
       " 'malware': 3,\n",
       " 'organization': 4,\n",
       " 'malwaretype': 5,\n",
       " 'os': 6,\n",
       " 'location': 7,\n",
       " 'time': 8,\n",
       " 'threatactor': 9,\n",
       " 'person': 10}"
      ]
     },
     "execution_count": 22,
     "metadata": {},
     "output_type": "execute_result"
    }
   ],
   "source": [
    "y_index"
   ]
  },
  {
   "cell_type": "code",
   "execution_count": 23,
   "metadata": {},
   "outputs": [],
   "source": [
    "text2 = open(\"test.txt\", \"r\", encoding=\"utf8\").read()\n",
    "test_data = process_text(text2)\n",
    "df_test = pd.DataFrame(test_data)"
   ]
  },
  {
   "cell_type": "code",
   "execution_count": 24,
   "metadata": {},
   "outputs": [
    {
     "data": {
      "text/html": [
       "<div>\n",
       "<style scoped>\n",
       "    .dataframe tbody tr th:only-of-type {\n",
       "        vertical-align: middle;\n",
       "    }\n",
       "\n",
       "    .dataframe tbody tr th {\n",
       "        vertical-align: top;\n",
       "    }\n",
       "\n",
       "    .dataframe thead th {\n",
       "        text-align: right;\n",
       "    }\n",
       "</style>\n",
       "<table border=\"1\" class=\"dataframe\">\n",
       "  <thead>\n",
       "    <tr style=\"text-align: right;\">\n",
       "      <th></th>\n",
       "      <th>0</th>\n",
       "      <th>1</th>\n",
       "    </tr>\n",
       "  </thead>\n",
       "  <tbody>\n",
       "    <tr>\n",
       "      <th>0</th>\n",
       "      <td>Ginp</td>\n",
       "      <td>B-Malware</td>\n",
       "    </tr>\n",
       "    <tr>\n",
       "      <th>1</th>\n",
       "      <td>-</td>\n",
       "      <td>O</td>\n",
       "    </tr>\n",
       "    <tr>\n",
       "      <th>2</th>\n",
       "      <td>A</td>\n",
       "      <td>O</td>\n",
       "    </tr>\n",
       "    <tr>\n",
       "      <th>3</th>\n",
       "      <td>malware</td>\n",
       "      <td>O</td>\n",
       "    </tr>\n",
       "    <tr>\n",
       "      <th>4</th>\n",
       "      <td>patchwork</td>\n",
       "      <td>O</td>\n",
       "    </tr>\n",
       "    <tr>\n",
       "      <th>...</th>\n",
       "      <td>...</td>\n",
       "      <td>...</td>\n",
       "    </tr>\n",
       "    <tr>\n",
       "      <th>20882</th>\n",
       "      <td>malware</td>\n",
       "      <td>O</td>\n",
       "    </tr>\n",
       "    <tr>\n",
       "      <th>20883</th>\n",
       "      <td>should</td>\n",
       "      <td>O</td>\n",
       "    </tr>\n",
       "    <tr>\n",
       "      <th>20884</th>\n",
       "      <td>be</td>\n",
       "      <td>O</td>\n",
       "    </tr>\n",
       "    <tr>\n",
       "      <th>20885</th>\n",
       "      <td>underestimated</td>\n",
       "      <td>O</td>\n",
       "    </tr>\n",
       "    <tr>\n",
       "      <th>20886</th>\n",
       "      <td>.</td>\n",
       "      <td>O</td>\n",
       "    </tr>\n",
       "  </tbody>\n",
       "</table>\n",
       "<p>20887 rows × 2 columns</p>\n",
       "</div>"
      ],
      "text/plain": [
       "                    0          1\n",
       "0                Ginp  B-Malware\n",
       "1                   -          O\n",
       "2                   A          O\n",
       "3             malware          O\n",
       "4           patchwork          O\n",
       "...               ...        ...\n",
       "20882         malware          O\n",
       "20883          should          O\n",
       "20884              be          O\n",
       "20885  underestimated          O\n",
       "20886               .          O\n",
       "\n",
       "[20887 rows x 2 columns]"
      ]
     },
     "execution_count": 24,
     "metadata": {},
     "output_type": "execute_result"
    }
   ],
   "source": [
    "df_test"
   ]
  },
  {
   "cell_type": "code",
   "execution_count": 25,
   "metadata": {},
   "outputs": [],
   "source": [
    "df_test['tokens'] = df_test[0].apply(tokenize_letters)\n",
    "df_test['tokens'] = df_test['tokens'].apply(pad_tokens)"
   ]
  },
  {
   "cell_type": "code",
   "execution_count": 26,
   "metadata": {},
   "outputs": [],
   "source": [
    "df_test[1] = df_test[1].str.replace('B-','')\n",
    "df_test[1] = df_test[1].str.replace('I-','')"
   ]
  },
  {
   "cell_type": "code",
   "execution_count": 27,
   "metadata": {},
   "outputs": [],
   "source": [
    "y_test , y_test_index = tokenize(df_test[1])"
   ]
  },
  {
   "cell_type": "code",
   "execution_count": 28,
   "metadata": {},
   "outputs": [
    {
     "data": {
      "text/plain": [
       "{'o': 1,\n",
       " 'application': 2,\n",
       " 'malware': 3,\n",
       " 'malwaretype': 4,\n",
       " 'organization': 5,\n",
       " 'os': 6,\n",
       " 'time': 7,\n",
       " 'location': 8,\n",
       " 'threatactor': 9,\n",
       " 'person': 10}"
      ]
     },
     "execution_count": 28,
     "metadata": {},
     "output_type": "execute_result"
    }
   ],
   "source": [
    "y_test_index"
   ]
  },
  {
   "cell_type": "code",
   "execution_count": 29,
   "metadata": {},
   "outputs": [],
   "source": [
    "x_text = df_test['tokens']"
   ]
  },
  {
   "cell_type": "code",
   "execution_count": 30,
   "metadata": {},
   "outputs": [],
   "source": [
    "X = df_test['tokens']"
   ]
  },
  {
   "cell_type": "code",
   "execution_count": 31,
   "metadata": {},
   "outputs": [
    {
     "data": {
      "text/plain": [
       "0        [71, 105, 110, 112, 0, 0, 0, 0, 0, 0, 0, 0, 0,...\n",
       "1        [45, 0, 0, 0, 0, 0, 0, 0, 0, 0, 0, 0, 0, 0, 0,...\n",
       "2        [65, 0, 0, 0, 0, 0, 0, 0, 0, 0, 0, 0, 0, 0, 0,...\n",
       "3        [109, 97, 108, 119, 97, 114, 101, 0, 0, 0, 0, ...\n",
       "4        [112, 97, 116, 99, 104, 119, 111, 114, 107, 0,...\n",
       "                               ...                        \n",
       "20882    [109, 97, 108, 119, 97, 114, 101, 0, 0, 0, 0, ...\n",
       "20883    [115, 104, 111, 117, 108, 100, 0, 0, 0, 0, 0, ...\n",
       "20884    [98, 101, 0, 0, 0, 0, 0, 0, 0, 0, 0, 0, 0, 0, ...\n",
       "20885    [117, 110, 100, 101, 114, 101, 115, 116, 105, ...\n",
       "20886    [46, 0, 0, 0, 0, 0, 0, 0, 0, 0, 0, 0, 0, 0, 0,...\n",
       "Name: tokens, Length: 20887, dtype: object"
      ]
     },
     "execution_count": 31,
     "metadata": {},
     "output_type": "execute_result"
    }
   ],
   "source": [
    "X"
   ]
  },
  {
   "cell_type": "code",
   "execution_count": 32,
   "metadata": {},
   "outputs": [],
   "source": [
    "X = np.array(df['tokens'].tolist())\n",
    "Y = np.array(df['1'].tolist())"
   ]
  },
  {
   "cell_type": "code",
   "execution_count": 33,
   "metadata": {},
   "outputs": [
    {
     "data": {
      "text/plain": [
       "array([[ 86, 105, 114, ...,   0,   0,   0],\n",
       "       [ 65, 110, 100, ...,   0,   0,   0],\n",
       "       [109,  97, 108, ...,   0,   0,   0],\n",
       "       ...,\n",
       "       [101, 120, 101, ...,   0,   0,   0],\n",
       "       [109,  97, 108, ...,   0,   0,   0],\n",
       "       [109,  97,  99, ...,   0,   0,   0]])"
      ]
     },
     "execution_count": 33,
     "metadata": {},
     "output_type": "execute_result"
    }
   ],
   "source": [
    "X"
   ]
  },
  {
   "cell_type": "code",
   "execution_count": 34,
   "metadata": {},
   "outputs": [],
   "source": [
    "X = pd.DataFrame(X).values\n",
    "Y = pd.DataFrame(Y).values"
   ]
  },
  {
   "cell_type": "code",
   "execution_count": 35,
   "metadata": {},
   "outputs": [],
   "source": [
    "x_text = np.array(df_test['tokens'].tolist())\n",
    "y_test = np.array(df_test[1].tolist())"
   ]
  },
  {
   "cell_type": "code",
   "execution_count": 36,
   "metadata": {},
   "outputs": [],
   "source": [
    "x_text = pd.DataFrame(x_text).values\n",
    "y_test = pd.DataFrame(y_test).values"
   ]
  },
  {
   "cell_type": "code",
   "execution_count": 37,
   "metadata": {},
   "outputs": [
    {
     "data": {
      "text/plain": [
       "array([[ 71, 105, 110, ...,   0,   0,   0],\n",
       "       [ 45,   0,   0, ...,   0,   0,   0],\n",
       "       [ 65,   0,   0, ...,   0,   0,   0],\n",
       "       ...,\n",
       "       [ 98, 101,   0, ...,   0,   0,   0],\n",
       "       [117, 110, 100, ...,   0,   0,   0],\n",
       "       [ 46,   0,   0, ...,   0,   0,   0]])"
      ]
     },
     "execution_count": 37,
     "metadata": {},
     "output_type": "execute_result"
    }
   ],
   "source": [
    "x_text"
   ]
  },
  {
   "cell_type": "code",
   "execution_count": 38,
   "metadata": {},
   "outputs": [
    {
     "data": {
      "text/html": [
       "<style>#sk-container-id-1 {color: black;background-color: white;}#sk-container-id-1 pre{padding: 0;}#sk-container-id-1 div.sk-toggleable {background-color: white;}#sk-container-id-1 label.sk-toggleable__label {cursor: pointer;display: block;width: 100%;margin-bottom: 0;padding: 0.3em;box-sizing: border-box;text-align: center;}#sk-container-id-1 label.sk-toggleable__label-arrow:before {content: \"▸\";float: left;margin-right: 0.25em;color: #696969;}#sk-container-id-1 label.sk-toggleable__label-arrow:hover:before {color: black;}#sk-container-id-1 div.sk-estimator:hover label.sk-toggleable__label-arrow:before {color: black;}#sk-container-id-1 div.sk-toggleable__content {max-height: 0;max-width: 0;overflow: hidden;text-align: left;background-color: #f0f8ff;}#sk-container-id-1 div.sk-toggleable__content pre {margin: 0.2em;color: black;border-radius: 0.25em;background-color: #f0f8ff;}#sk-container-id-1 input.sk-toggleable__control:checked~div.sk-toggleable__content {max-height: 200px;max-width: 100%;overflow: auto;}#sk-container-id-1 input.sk-toggleable__control:checked~label.sk-toggleable__label-arrow:before {content: \"▾\";}#sk-container-id-1 div.sk-estimator input.sk-toggleable__control:checked~label.sk-toggleable__label {background-color: #d4ebff;}#sk-container-id-1 div.sk-label input.sk-toggleable__control:checked~label.sk-toggleable__label {background-color: #d4ebff;}#sk-container-id-1 input.sk-hidden--visually {border: 0;clip: rect(1px 1px 1px 1px);clip: rect(1px, 1px, 1px, 1px);height: 1px;margin: -1px;overflow: hidden;padding: 0;position: absolute;width: 1px;}#sk-container-id-1 div.sk-estimator {font-family: monospace;background-color: #f0f8ff;border: 1px dotted black;border-radius: 0.25em;box-sizing: border-box;margin-bottom: 0.5em;}#sk-container-id-1 div.sk-estimator:hover {background-color: #d4ebff;}#sk-container-id-1 div.sk-parallel-item::after {content: \"\";width: 100%;border-bottom: 1px solid gray;flex-grow: 1;}#sk-container-id-1 div.sk-label:hover label.sk-toggleable__label {background-color: #d4ebff;}#sk-container-id-1 div.sk-serial::before {content: \"\";position: absolute;border-left: 1px solid gray;box-sizing: border-box;top: 0;bottom: 0;left: 50%;z-index: 0;}#sk-container-id-1 div.sk-serial {display: flex;flex-direction: column;align-items: center;background-color: white;padding-right: 0.2em;padding-left: 0.2em;position: relative;}#sk-container-id-1 div.sk-item {position: relative;z-index: 1;}#sk-container-id-1 div.sk-parallel {display: flex;align-items: stretch;justify-content: center;background-color: white;position: relative;}#sk-container-id-1 div.sk-item::before, #sk-container-id-1 div.sk-parallel-item::before {content: \"\";position: absolute;border-left: 1px solid gray;box-sizing: border-box;top: 0;bottom: 0;left: 50%;z-index: -1;}#sk-container-id-1 div.sk-parallel-item {display: flex;flex-direction: column;z-index: 1;position: relative;background-color: white;}#sk-container-id-1 div.sk-parallel-item:first-child::after {align-self: flex-end;width: 50%;}#sk-container-id-1 div.sk-parallel-item:last-child::after {align-self: flex-start;width: 50%;}#sk-container-id-1 div.sk-parallel-item:only-child::after {width: 0;}#sk-container-id-1 div.sk-dashed-wrapped {border: 1px dashed gray;margin: 0 0.4em 0.5em 0.4em;box-sizing: border-box;padding-bottom: 0.4em;background-color: white;}#sk-container-id-1 div.sk-label label {font-family: monospace;font-weight: bold;display: inline-block;line-height: 1.2em;}#sk-container-id-1 div.sk-label-container {text-align: center;}#sk-container-id-1 div.sk-container {/* jupyter's `normalize.less` sets `[hidden] { display: none; }` but bootstrap.min.css set `[hidden] { display: none !important; }` so we also need the `!important` here to be able to override the default hidden behavior on the sphinx rendered scikit-learn.org. See: https://github.com/scikit-learn/scikit-learn/issues/21755 */display: inline-block !important;position: relative;}#sk-container-id-1 div.sk-text-repr-fallback {display: none;}</style><div id=\"sk-container-id-1\" class=\"sk-top-container\"><div class=\"sk-text-repr-fallback\"><pre>DecisionTreeClassifier()</pre><b>In a Jupyter environment, please rerun this cell to show the HTML representation or trust the notebook. <br />On GitHub, the HTML representation is unable to render, please try loading this page with nbviewer.org.</b></div><div class=\"sk-container\" hidden><div class=\"sk-item\"><div class=\"sk-estimator sk-toggleable\"><input class=\"sk-toggleable__control sk-hidden--visually\" id=\"sk-estimator-id-1\" type=\"checkbox\" checked><label for=\"sk-estimator-id-1\" class=\"sk-toggleable__label sk-toggleable__label-arrow\">DecisionTreeClassifier</label><div class=\"sk-toggleable__content\"><pre>DecisionTreeClassifier()</pre></div></div></div></div></div>"
      ],
      "text/plain": [
       "DecisionTreeClassifier()"
      ]
     },
     "execution_count": 38,
     "metadata": {},
     "output_type": "execute_result"
    }
   ],
   "source": [
    "dt_model = DecisionTreeClassifier()\n",
    "dt_model.fit(X,Y)"
   ]
  },
  {
   "cell_type": "code",
   "execution_count": 39,
   "metadata": {},
   "outputs": [
    {
     "name": "stdout",
     "output_type": "stream",
     "text": [
      "Accuracy: 0.944271556470532\n",
      "Precision: 0.5862490808321772\n",
      "Recall: 0.5463116685852778\n",
      "F1-score: 0.5463064015217264\n",
      "confusion_matrix\n",
      "[[  294    23    14    24   181     3    11     4     0     0]\n",
      " [    4    59     1     1    15     0     2     5     5     0]\n",
      " [    5    91    96    25   128     1     9     6     1     0]\n",
      " [    0     0     0   175    64     2     0     0     0     0]\n",
      " [   72    18    10    27 18748    18    36    18    20    18]\n",
      " [    0     0     0     0    16   158     0     0     0     0]\n",
      " [   26    10    16     0    86     0    94     1     0     0]\n",
      " [    7     1     4     1    25     0     0     9     1     0]\n",
      " [    1     1     0     0    71     0     3    10     1     0]\n",
      " [    0     0     0     0    22     0     0     0     0    89]]\n"
     ]
    }
   ],
   "source": [
    "y_pred = dt_model.predict(x_text)\n",
    "\n",
    "accuracy = accuracy_score(y_test, y_pred)\n",
    "precision = precision_score(y_test, y_pred, average='macro')\n",
    "recall = recall_score(y_test, y_pred, average='macro')\n",
    "f1 = f1_score(y_test, y_pred, average='macro')\n",
    "\n",
    "\n",
    "print(\"Accuracy:\", accuracy)\n",
    "print(\"Precision:\", precision)\n",
    "print(\"Recall:\", recall)\n",
    "print(\"F1-score:\", f1)\n",
    "\n",
    "confusion_mtx = confusion_matrix(y_test, y_pred)\n",
    "print('confusion_matrix')\n",
    "print(confusion_mtx)"
   ]
  },
  {
   "cell_type": "markdown",
   "metadata": {},
   "source": [
    "#علت تفاوت ارزیابی ها به این دلیل که ما توی دسته های به غیر از نگاتیو دقت مناسبی نداشتیم"
   ]
  },
  {
   "cell_type": "code",
   "execution_count": 40,
   "metadata": {},
   "outputs": [
    {
     "data": {
      "text/html": [
       "<style>#sk-container-id-2 {color: black;background-color: white;}#sk-container-id-2 pre{padding: 0;}#sk-container-id-2 div.sk-toggleable {background-color: white;}#sk-container-id-2 label.sk-toggleable__label {cursor: pointer;display: block;width: 100%;margin-bottom: 0;padding: 0.3em;box-sizing: border-box;text-align: center;}#sk-container-id-2 label.sk-toggleable__label-arrow:before {content: \"▸\";float: left;margin-right: 0.25em;color: #696969;}#sk-container-id-2 label.sk-toggleable__label-arrow:hover:before {color: black;}#sk-container-id-2 div.sk-estimator:hover label.sk-toggleable__label-arrow:before {color: black;}#sk-container-id-2 div.sk-toggleable__content {max-height: 0;max-width: 0;overflow: hidden;text-align: left;background-color: #f0f8ff;}#sk-container-id-2 div.sk-toggleable__content pre {margin: 0.2em;color: black;border-radius: 0.25em;background-color: #f0f8ff;}#sk-container-id-2 input.sk-toggleable__control:checked~div.sk-toggleable__content {max-height: 200px;max-width: 100%;overflow: auto;}#sk-container-id-2 input.sk-toggleable__control:checked~label.sk-toggleable__label-arrow:before {content: \"▾\";}#sk-container-id-2 div.sk-estimator input.sk-toggleable__control:checked~label.sk-toggleable__label {background-color: #d4ebff;}#sk-container-id-2 div.sk-label input.sk-toggleable__control:checked~label.sk-toggleable__label {background-color: #d4ebff;}#sk-container-id-2 input.sk-hidden--visually {border: 0;clip: rect(1px 1px 1px 1px);clip: rect(1px, 1px, 1px, 1px);height: 1px;margin: -1px;overflow: hidden;padding: 0;position: absolute;width: 1px;}#sk-container-id-2 div.sk-estimator {font-family: monospace;background-color: #f0f8ff;border: 1px dotted black;border-radius: 0.25em;box-sizing: border-box;margin-bottom: 0.5em;}#sk-container-id-2 div.sk-estimator:hover {background-color: #d4ebff;}#sk-container-id-2 div.sk-parallel-item::after {content: \"\";width: 100%;border-bottom: 1px solid gray;flex-grow: 1;}#sk-container-id-2 div.sk-label:hover label.sk-toggleable__label {background-color: #d4ebff;}#sk-container-id-2 div.sk-serial::before {content: \"\";position: absolute;border-left: 1px solid gray;box-sizing: border-box;top: 0;bottom: 0;left: 50%;z-index: 0;}#sk-container-id-2 div.sk-serial {display: flex;flex-direction: column;align-items: center;background-color: white;padding-right: 0.2em;padding-left: 0.2em;position: relative;}#sk-container-id-2 div.sk-item {position: relative;z-index: 1;}#sk-container-id-2 div.sk-parallel {display: flex;align-items: stretch;justify-content: center;background-color: white;position: relative;}#sk-container-id-2 div.sk-item::before, #sk-container-id-2 div.sk-parallel-item::before {content: \"\";position: absolute;border-left: 1px solid gray;box-sizing: border-box;top: 0;bottom: 0;left: 50%;z-index: -1;}#sk-container-id-2 div.sk-parallel-item {display: flex;flex-direction: column;z-index: 1;position: relative;background-color: white;}#sk-container-id-2 div.sk-parallel-item:first-child::after {align-self: flex-end;width: 50%;}#sk-container-id-2 div.sk-parallel-item:last-child::after {align-self: flex-start;width: 50%;}#sk-container-id-2 div.sk-parallel-item:only-child::after {width: 0;}#sk-container-id-2 div.sk-dashed-wrapped {border: 1px dashed gray;margin: 0 0.4em 0.5em 0.4em;box-sizing: border-box;padding-bottom: 0.4em;background-color: white;}#sk-container-id-2 div.sk-label label {font-family: monospace;font-weight: bold;display: inline-block;line-height: 1.2em;}#sk-container-id-2 div.sk-label-container {text-align: center;}#sk-container-id-2 div.sk-container {/* jupyter's `normalize.less` sets `[hidden] { display: none; }` but bootstrap.min.css set `[hidden] { display: none !important; }` so we also need the `!important` here to be able to override the default hidden behavior on the sphinx rendered scikit-learn.org. See: https://github.com/scikit-learn/scikit-learn/issues/21755 */display: inline-block !important;position: relative;}#sk-container-id-2 div.sk-text-repr-fallback {display: none;}</style><div id=\"sk-container-id-2\" class=\"sk-top-container\"><div class=\"sk-text-repr-fallback\"><pre>DecisionTreeClassifier()</pre><b>In a Jupyter environment, please rerun this cell to show the HTML representation or trust the notebook. <br />On GitHub, the HTML representation is unable to render, please try loading this page with nbviewer.org.</b></div><div class=\"sk-container\" hidden><div class=\"sk-item\"><div class=\"sk-estimator sk-toggleable\"><input class=\"sk-toggleable__control sk-hidden--visually\" id=\"sk-estimator-id-2\" type=\"checkbox\" checked><label for=\"sk-estimator-id-2\" class=\"sk-toggleable__label sk-toggleable__label-arrow\">DecisionTreeClassifier</label><div class=\"sk-toggleable__content\"><pre>DecisionTreeClassifier()</pre></div></div></div></div></div>"
      ],
      "text/plain": [
       "DecisionTreeClassifier()"
      ]
     },
     "execution_count": 40,
     "metadata": {},
     "output_type": "execute_result"
    }
   ],
   "source": [
    "dt_model = DecisionTreeClassifier(criterion='gini',splitter='best')\n",
    "dt_model.fit(X,Y)"
   ]
  },
  {
   "cell_type": "code",
   "execution_count": 41,
   "metadata": {},
   "outputs": [
    {
     "name": "stdout",
     "output_type": "stream",
     "text": [
      "Accuracy: 0.9447024464978216\n",
      "Precision: 0.6364482500174544\n",
      "Recall: 0.546570724913342\n",
      "F1-score: 0.5691811907351871\n",
      "confusion_matrix\n",
      "[[  307    17    12    24   180     3    11     0     0     0]\n",
      " [    4    53     1     7    18     0     7     2     0     0]\n",
      " [    3     2    97    25   218     1     9     6     1     0]\n",
      " [    0     0     0   175    64     2     0     0     0     0]\n",
      " [   85    20    11    26 18746    19    33    19     8    18]\n",
      " [    0     0     0     0    16   158     0     0     0     0]\n",
      " [   27    10    16     0    84     0    93     2     1     0]\n",
      " [   10     0     0     1    19     0     9     9     0     0]\n",
      " [    1     1     0     0    71     0     3     6     5     0]\n",
      " [    0     0     0     0    22     0     0     0     0    89]]\n"
     ]
    }
   ],
   "source": [
    "y_pred = dt_model.predict(x_text)\n",
    "\n",
    "accuracy = accuracy_score(y_test, y_pred)\n",
    "precision = precision_score(y_test, y_pred, average='macro')\n",
    "recall = recall_score(y_test, y_pred, average='macro')\n",
    "f1 = f1_score(y_test, y_pred, average='macro')\n",
    "\n",
    "\n",
    "print(\"Accuracy:\", accuracy)\n",
    "print(\"Precision:\", precision)\n",
    "print(\"Recall:\", recall)\n",
    "print(\"F1-score:\", f1)\n",
    "confusion_mtx = confusion_matrix(y_test, y_pred)\n",
    "print('confusion_matrix')\n",
    "print(confusion_mtx)"
   ]
  },
  {
   "cell_type": "code",
   "execution_count": 42,
   "metadata": {},
   "outputs": [
    {
     "data": {
      "text/html": [
       "<style>#sk-container-id-3 {color: black;background-color: white;}#sk-container-id-3 pre{padding: 0;}#sk-container-id-3 div.sk-toggleable {background-color: white;}#sk-container-id-3 label.sk-toggleable__label {cursor: pointer;display: block;width: 100%;margin-bottom: 0;padding: 0.3em;box-sizing: border-box;text-align: center;}#sk-container-id-3 label.sk-toggleable__label-arrow:before {content: \"▸\";float: left;margin-right: 0.25em;color: #696969;}#sk-container-id-3 label.sk-toggleable__label-arrow:hover:before {color: black;}#sk-container-id-3 div.sk-estimator:hover label.sk-toggleable__label-arrow:before {color: black;}#sk-container-id-3 div.sk-toggleable__content {max-height: 0;max-width: 0;overflow: hidden;text-align: left;background-color: #f0f8ff;}#sk-container-id-3 div.sk-toggleable__content pre {margin: 0.2em;color: black;border-radius: 0.25em;background-color: #f0f8ff;}#sk-container-id-3 input.sk-toggleable__control:checked~div.sk-toggleable__content {max-height: 200px;max-width: 100%;overflow: auto;}#sk-container-id-3 input.sk-toggleable__control:checked~label.sk-toggleable__label-arrow:before {content: \"▾\";}#sk-container-id-3 div.sk-estimator input.sk-toggleable__control:checked~label.sk-toggleable__label {background-color: #d4ebff;}#sk-container-id-3 div.sk-label input.sk-toggleable__control:checked~label.sk-toggleable__label {background-color: #d4ebff;}#sk-container-id-3 input.sk-hidden--visually {border: 0;clip: rect(1px 1px 1px 1px);clip: rect(1px, 1px, 1px, 1px);height: 1px;margin: -1px;overflow: hidden;padding: 0;position: absolute;width: 1px;}#sk-container-id-3 div.sk-estimator {font-family: monospace;background-color: #f0f8ff;border: 1px dotted black;border-radius: 0.25em;box-sizing: border-box;margin-bottom: 0.5em;}#sk-container-id-3 div.sk-estimator:hover {background-color: #d4ebff;}#sk-container-id-3 div.sk-parallel-item::after {content: \"\";width: 100%;border-bottom: 1px solid gray;flex-grow: 1;}#sk-container-id-3 div.sk-label:hover label.sk-toggleable__label {background-color: #d4ebff;}#sk-container-id-3 div.sk-serial::before {content: \"\";position: absolute;border-left: 1px solid gray;box-sizing: border-box;top: 0;bottom: 0;left: 50%;z-index: 0;}#sk-container-id-3 div.sk-serial {display: flex;flex-direction: column;align-items: center;background-color: white;padding-right: 0.2em;padding-left: 0.2em;position: relative;}#sk-container-id-3 div.sk-item {position: relative;z-index: 1;}#sk-container-id-3 div.sk-parallel {display: flex;align-items: stretch;justify-content: center;background-color: white;position: relative;}#sk-container-id-3 div.sk-item::before, #sk-container-id-3 div.sk-parallel-item::before {content: \"\";position: absolute;border-left: 1px solid gray;box-sizing: border-box;top: 0;bottom: 0;left: 50%;z-index: -1;}#sk-container-id-3 div.sk-parallel-item {display: flex;flex-direction: column;z-index: 1;position: relative;background-color: white;}#sk-container-id-3 div.sk-parallel-item:first-child::after {align-self: flex-end;width: 50%;}#sk-container-id-3 div.sk-parallel-item:last-child::after {align-self: flex-start;width: 50%;}#sk-container-id-3 div.sk-parallel-item:only-child::after {width: 0;}#sk-container-id-3 div.sk-dashed-wrapped {border: 1px dashed gray;margin: 0 0.4em 0.5em 0.4em;box-sizing: border-box;padding-bottom: 0.4em;background-color: white;}#sk-container-id-3 div.sk-label label {font-family: monospace;font-weight: bold;display: inline-block;line-height: 1.2em;}#sk-container-id-3 div.sk-label-container {text-align: center;}#sk-container-id-3 div.sk-container {/* jupyter's `normalize.less` sets `[hidden] { display: none; }` but bootstrap.min.css set `[hidden] { display: none !important; }` so we also need the `!important` here to be able to override the default hidden behavior on the sphinx rendered scikit-learn.org. See: https://github.com/scikit-learn/scikit-learn/issues/21755 */display: inline-block !important;position: relative;}#sk-container-id-3 div.sk-text-repr-fallback {display: none;}</style><div id=\"sk-container-id-3\" class=\"sk-top-container\"><div class=\"sk-text-repr-fallback\"><pre>DecisionTreeClassifier(criterion=&#x27;entropy&#x27;)</pre><b>In a Jupyter environment, please rerun this cell to show the HTML representation or trust the notebook. <br />On GitHub, the HTML representation is unable to render, please try loading this page with nbviewer.org.</b></div><div class=\"sk-container\" hidden><div class=\"sk-item\"><div class=\"sk-estimator sk-toggleable\"><input class=\"sk-toggleable__control sk-hidden--visually\" id=\"sk-estimator-id-3\" type=\"checkbox\" checked><label for=\"sk-estimator-id-3\" class=\"sk-toggleable__label sk-toggleable__label-arrow\">DecisionTreeClassifier</label><div class=\"sk-toggleable__content\"><pre>DecisionTreeClassifier(criterion=&#x27;entropy&#x27;)</pre></div></div></div></div></div>"
      ],
      "text/plain": [
       "DecisionTreeClassifier(criterion='entropy')"
      ]
     },
     "execution_count": 42,
     "metadata": {},
     "output_type": "execute_result"
    }
   ],
   "source": [
    "dt_model = DecisionTreeClassifier(criterion='entropy',splitter='best')\n",
    "dt_model.fit(X,Y)"
   ]
  },
  {
   "cell_type": "code",
   "execution_count": 43,
   "metadata": {},
   "outputs": [
    {
     "name": "stdout",
     "output_type": "stream",
     "text": [
      "Accuracy: 0.9449897065160148\n",
      "Precision: 0.6592478509848678\n",
      "Recall: 0.5432930713794818\n",
      "F1-score: 0.5702422965860711\n",
      "confusion_matrix\n",
      "[[  290    11     6    20   202     4    12     3     0     6]\n",
      " [    3    56     0     7    17     0     5     4     0     0]\n",
      " [    4     2    95    28   226     0     0     6     1     0]\n",
      " [    1     0     0   175    63     2     0     0     0     0]\n",
      " [   79    39    15    21 18766     3    26    11     7    18]\n",
      " [    0     0     0     0    17   157     0     0     0     0]\n",
      " [   21     7     8     5    94     0    96     0     2     0]\n",
      " [    8     9     1     0    24     0     1     5     0     0]\n",
      " [    3     7     0     0    65     0     2     1     9     0]\n",
      " [    0     0     0     0    22     0     0     0     0    89]]\n"
     ]
    }
   ],
   "source": [
    "y_pred = dt_model.predict(x_text)\n",
    "\n",
    "accuracy = accuracy_score(y_test, y_pred)\n",
    "precision = precision_score(y_test, y_pred, average='macro')\n",
    "recall = recall_score(y_test, y_pred, average='macro')\n",
    "f1 = f1_score(y_test, y_pred, average='macro')\n",
    "\n",
    "\n",
    "print(\"Accuracy:\", accuracy)\n",
    "print(\"Precision:\", precision)\n",
    "print(\"Recall:\", recall)\n",
    "print(\"F1-score:\", f1)\n",
    "confusion_mtx = confusion_matrix(y_test, y_pred)\n",
    "print('confusion_matrix')\n",
    "print(confusion_mtx)"
   ]
  },
  {
   "cell_type": "code",
   "execution_count": 44,
   "metadata": {},
   "outputs": [
    {
     "data": {
      "text/html": [
       "<style>#sk-container-id-4 {color: black;background-color: white;}#sk-container-id-4 pre{padding: 0;}#sk-container-id-4 div.sk-toggleable {background-color: white;}#sk-container-id-4 label.sk-toggleable__label {cursor: pointer;display: block;width: 100%;margin-bottom: 0;padding: 0.3em;box-sizing: border-box;text-align: center;}#sk-container-id-4 label.sk-toggleable__label-arrow:before {content: \"▸\";float: left;margin-right: 0.25em;color: #696969;}#sk-container-id-4 label.sk-toggleable__label-arrow:hover:before {color: black;}#sk-container-id-4 div.sk-estimator:hover label.sk-toggleable__label-arrow:before {color: black;}#sk-container-id-4 div.sk-toggleable__content {max-height: 0;max-width: 0;overflow: hidden;text-align: left;background-color: #f0f8ff;}#sk-container-id-4 div.sk-toggleable__content pre {margin: 0.2em;color: black;border-radius: 0.25em;background-color: #f0f8ff;}#sk-container-id-4 input.sk-toggleable__control:checked~div.sk-toggleable__content {max-height: 200px;max-width: 100%;overflow: auto;}#sk-container-id-4 input.sk-toggleable__control:checked~label.sk-toggleable__label-arrow:before {content: \"▾\";}#sk-container-id-4 div.sk-estimator input.sk-toggleable__control:checked~label.sk-toggleable__label {background-color: #d4ebff;}#sk-container-id-4 div.sk-label input.sk-toggleable__control:checked~label.sk-toggleable__label {background-color: #d4ebff;}#sk-container-id-4 input.sk-hidden--visually {border: 0;clip: rect(1px 1px 1px 1px);clip: rect(1px, 1px, 1px, 1px);height: 1px;margin: -1px;overflow: hidden;padding: 0;position: absolute;width: 1px;}#sk-container-id-4 div.sk-estimator {font-family: monospace;background-color: #f0f8ff;border: 1px dotted black;border-radius: 0.25em;box-sizing: border-box;margin-bottom: 0.5em;}#sk-container-id-4 div.sk-estimator:hover {background-color: #d4ebff;}#sk-container-id-4 div.sk-parallel-item::after {content: \"\";width: 100%;border-bottom: 1px solid gray;flex-grow: 1;}#sk-container-id-4 div.sk-label:hover label.sk-toggleable__label {background-color: #d4ebff;}#sk-container-id-4 div.sk-serial::before {content: \"\";position: absolute;border-left: 1px solid gray;box-sizing: border-box;top: 0;bottom: 0;left: 50%;z-index: 0;}#sk-container-id-4 div.sk-serial {display: flex;flex-direction: column;align-items: center;background-color: white;padding-right: 0.2em;padding-left: 0.2em;position: relative;}#sk-container-id-4 div.sk-item {position: relative;z-index: 1;}#sk-container-id-4 div.sk-parallel {display: flex;align-items: stretch;justify-content: center;background-color: white;position: relative;}#sk-container-id-4 div.sk-item::before, #sk-container-id-4 div.sk-parallel-item::before {content: \"\";position: absolute;border-left: 1px solid gray;box-sizing: border-box;top: 0;bottom: 0;left: 50%;z-index: -1;}#sk-container-id-4 div.sk-parallel-item {display: flex;flex-direction: column;z-index: 1;position: relative;background-color: white;}#sk-container-id-4 div.sk-parallel-item:first-child::after {align-self: flex-end;width: 50%;}#sk-container-id-4 div.sk-parallel-item:last-child::after {align-self: flex-start;width: 50%;}#sk-container-id-4 div.sk-parallel-item:only-child::after {width: 0;}#sk-container-id-4 div.sk-dashed-wrapped {border: 1px dashed gray;margin: 0 0.4em 0.5em 0.4em;box-sizing: border-box;padding-bottom: 0.4em;background-color: white;}#sk-container-id-4 div.sk-label label {font-family: monospace;font-weight: bold;display: inline-block;line-height: 1.2em;}#sk-container-id-4 div.sk-label-container {text-align: center;}#sk-container-id-4 div.sk-container {/* jupyter's `normalize.less` sets `[hidden] { display: none; }` but bootstrap.min.css set `[hidden] { display: none !important; }` so we also need the `!important` here to be able to override the default hidden behavior on the sphinx rendered scikit-learn.org. See: https://github.com/scikit-learn/scikit-learn/issues/21755 */display: inline-block !important;position: relative;}#sk-container-id-4 div.sk-text-repr-fallback {display: none;}</style><div id=\"sk-container-id-4\" class=\"sk-top-container\"><div class=\"sk-text-repr-fallback\"><pre>DecisionTreeClassifier(criterion=&#x27;log_loss&#x27;)</pre><b>In a Jupyter environment, please rerun this cell to show the HTML representation or trust the notebook. <br />On GitHub, the HTML representation is unable to render, please try loading this page with nbviewer.org.</b></div><div class=\"sk-container\" hidden><div class=\"sk-item\"><div class=\"sk-estimator sk-toggleable\"><input class=\"sk-toggleable__control sk-hidden--visually\" id=\"sk-estimator-id-4\" type=\"checkbox\" checked><label for=\"sk-estimator-id-4\" class=\"sk-toggleable__label sk-toggleable__label-arrow\">DecisionTreeClassifier</label><div class=\"sk-toggleable__content\"><pre>DecisionTreeClassifier(criterion=&#x27;log_loss&#x27;)</pre></div></div></div></div></div>"
      ],
      "text/plain": [
       "DecisionTreeClassifier(criterion='log_loss')"
      ]
     },
     "execution_count": 44,
     "metadata": {},
     "output_type": "execute_result"
    }
   ],
   "source": [
    "dt_model = DecisionTreeClassifier(criterion='log_loss',splitter='best')\n",
    "dt_model.fit(X,Y)"
   ]
  },
  {
   "cell_type": "code",
   "execution_count": 45,
   "metadata": {},
   "outputs": [
    {
     "name": "stdout",
     "output_type": "stream",
     "text": [
      "Accuracy: 0.9447503231675205\n",
      "Precision: 0.6187837384845603\n",
      "Recall: 0.537454609996826\n",
      "F1-score: 0.5501296887605449\n",
      "confusion_matrix\n",
      "[[  285     9     6    20   203     4    12     9     0     6]\n",
      " [    3    55     0     7    16     0     7     4     0     0]\n",
      " [   15     1    94   116   129     0     0     6     1     0]\n",
      " [    0     1     0   175    63     2     0     0     0     0]\n",
      " [   84    30    13    19 18770     5    26    12     6    20]\n",
      " [    0     0     0     0    16   158     0     0     0     0]\n",
      " [   21     7     8     5    91     0    97     0     4     0]\n",
      " [    7     9     1     0    25     0     1     5     0     0]\n",
      " [    3     7     1     0    65     0     6     0     5     0]\n",
      " [    0     0     0     0    20     2     0     0     0    89]]\n"
     ]
    }
   ],
   "source": [
    "y_pred = dt_model.predict(x_text)\n",
    "\n",
    "accuracy = accuracy_score(y_test, y_pred)\n",
    "precision = precision_score(y_test, y_pred, average='macro')\n",
    "recall = recall_score(y_test, y_pred, average='macro')\n",
    "f1 = f1_score(y_test, y_pred, average='macro')\n",
    "\n",
    "\n",
    "print(\"Accuracy:\", accuracy)\n",
    "print(\"Precision:\", precision)\n",
    "print(\"Recall:\", recall)\n",
    "print(\"F1-score:\", f1)\n",
    "confusion_mtx = confusion_matrix(y_test, y_pred)\n",
    "print('confusion_matrix')\n",
    "print(confusion_mtx)"
   ]
  },
  {
   "cell_type": "code",
   "execution_count": 46,
   "metadata": {},
   "outputs": [
    {
     "name": "stdout",
     "output_type": "stream",
     "text": [
      "********************\n",
      "1\n",
      "Accuracy: 0.9447981998372194\n",
      "Precision: 0.6500687613722432\n",
      "Recall: 0.5506328349361643\n",
      "F1-score: 0.5657493894196349\n",
      "********************\n",
      "2\n",
      "Accuracy: 0.945229089864509\n",
      "Precision: 0.6607508516717049\n",
      "Recall: 0.54605504529382\n",
      "F1-score: 0.5719813234143247\n",
      "********************\n",
      "3\n",
      "Accuracy: 0.9449418298463159\n",
      "Precision: 0.6606588903040713\n",
      "Recall: 0.551701803980021\n",
      "F1-score: 0.5774003352810082\n",
      "********************\n",
      "4\n",
      "Accuracy: 0.9454205965433045\n",
      "Precision: 0.661034820817593\n",
      "Recall: 0.5507177866835548\n",
      "F1-score: 0.5753132220010548\n",
      "********************\n",
      "5\n",
      "Accuracy: 0.9448939531766171\n",
      "Precision: 0.6612247601372035\n",
      "Recall: 0.5514609434226007\n",
      "F1-score: 0.5761683389166701\n",
      "********************\n",
      "6\n",
      "Accuracy: 0.9448939531766171\n",
      "Precision: 0.6646357195942248\n",
      "Recall: 0.5519241925765029\n",
      "F1-score: 0.5769588489000883\n",
      "********************\n",
      "7\n",
      "Accuracy: 0.9445588164887251\n",
      "Precision: 0.6572734394901335\n",
      "Recall: 0.5563599622488206\n",
      "F1-score: 0.5750988487031906\n",
      "********************\n",
      "8\n",
      "Accuracy: 0.9452769665342079\n",
      "Precision: 0.6773966186991418\n",
      "Recall: 0.5599355323384371\n",
      "F1-score: 0.5864368557823565\n",
      "********************\n",
      "9\n",
      "Accuracy: 0.9444151864796285\n",
      "Precision: 0.6490530013110836\n",
      "Recall: 0.5379316429355898\n",
      "F1-score: 0.5619226797504135\n",
      "********************\n",
      "10\n",
      "Accuracy: 0.9451812131948102\n",
      "Precision: 0.6499616448898653\n",
      "Recall: 0.550805266000081\n",
      "F1-score: 0.5691060817878485\n",
      "********************\n",
      "11\n",
      "Accuracy: 0.9451333365251113\n",
      "Precision: 0.6556346326683212\n",
      "Recall: 0.5564365978544512\n",
      "F1-score: 0.5780105105540352\n",
      "********************\n",
      "12\n",
      "Accuracy: 0.9441758031311343\n",
      "Precision: 0.6539300294734283\n",
      "Recall: 0.550973408395916\n",
      "F1-score: 0.5747671460596127\n",
      "********************\n",
      "13\n",
      "Accuracy: 0.9451333365251113\n",
      "Precision: 0.6776444138018046\n",
      "Recall: 0.553655822333899\n",
      "F1-score: 0.5835114426718994\n",
      "********************\n",
      "14\n",
      "Accuracy: 0.9447981998372194\n",
      "Precision: 0.6481790359981395\n",
      "Recall: 0.543830790617706\n",
      "F1-score: 0.5707098529256529\n",
      "********************\n",
      "15\n",
      "Accuracy: 0.9453727198736056\n",
      "Precision: 0.6649742985195847\n",
      "Recall: 0.5556037186181055\n",
      "F1-score: 0.5800446895016409\n",
      "********************\n",
      "16\n",
      "Accuracy: 0.9456599798917987\n",
      "Precision: 0.6735685752770111\n",
      "Recall: 0.558580507718679\n",
      "F1-score: 0.5842713238783921\n",
      "********************\n",
      "17\n",
      "Accuracy: 0.9447981998372194\n",
      "Precision: 0.6606919713440739\n",
      "Recall: 0.5518118608803718\n",
      "F1-score: 0.577821541458847\n",
      "********************\n",
      "18\n",
      "Accuracy: 0.9447503231675205\n",
      "Precision: 0.667399233704361\n",
      "Recall: 0.5577989231300602\n",
      "F1-score: 0.5826147727521599\n",
      "********************\n",
      "19\n",
      "Accuracy: 0.9448460765069182\n",
      "Precision: 0.6492254508349615\n",
      "Recall: 0.5402529280520008\n",
      "F1-score: 0.5657951886040672\n",
      "********************\n",
      "20\n",
      "Accuracy: 0.9453248432039068\n",
      "Precision: 0.6689645115666203\n",
      "Recall: 0.555909595578675\n",
      "F1-score: 0.5822308680914039\n"
     ]
    }
   ],
   "source": [
    "for i in range(20):    \n",
    "    rf_model = RandomForestClassifier(max_depth=i+1)\n",
    "    dt_model.fit(X,Y)\n",
    "    y_pred = dt_model.predict(x_text)\n",
    "\n",
    "    accuracy = accuracy_score(y_test, y_pred)\n",
    "    precision = precision_score(y_test, y_pred, average='macro')\n",
    "    recall = recall_score(y_test, y_pred, average='macro')\n",
    "    f1 = f1_score(y_test, y_pred, average='macro')\n",
    "    print('********************')\n",
    "    print(i+1)\n",
    "    print(\"Accuracy:\", accuracy)\n",
    "    print(\"Precision:\", precision)\n",
    "    print(\"Recall:\", recall)\n",
    "    print(\"F1-score:\", f1)"
   ]
  }
 ],
 "metadata": {
  "kernelspec": {
   "display_name": "Python 3",
   "language": "python",
   "name": "python3"
  },
  "language_info": {
   "codemirror_mode": {
    "name": "ipython",
    "version": 3
   },
   "file_extension": ".py",
   "mimetype": "text/x-python",
   "name": "python",
   "nbconvert_exporter": "python",
   "pygments_lexer": "ipython3",
   "version": "3.11.2"
  }
 },
 "nbformat": 4,
 "nbformat_minor": 2
}
